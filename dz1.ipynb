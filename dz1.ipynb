{
 "cells": [
  {
   "cell_type": "markdown",
   "metadata": {},
   "source": [
    "**Задача 1**\n",
    "\n",
    "Из колоды в 52 карты вынимают случайным образом 4 карты. Найти число исходов, соответствующих тому, что был вытянут хотя бы один туз."
   ]
  },
  {
   "cell_type": "code",
   "execution_count": 19,
   "metadata": {},
   "outputs": [],
   "source": [
    "# define some generic functions\n",
    "import math\n",
    "from functools import reduce\n",
    "\n",
    "def A(n, m):\n",
    "    return reduce(lambda a,b : a * b, range(n - m + 1, n + 1), 1)\n",
    "\n",
    "def C(n, m):\n",
    "    return A(n, m) / math.factorial(m)"
   ]
  },
  {
   "cell_type": "code",
   "execution_count": 20,
   "metadata": {},
   "outputs": [
    {
     "name": "stdout",
     "output_type": "stream",
     "text": [
      "Ace combinations:  76145.0\n"
     ]
    }
   ],
   "source": [
    "# for every combination of given number of aces take the rest of 4-strong card suite randomly\n",
    "\n",
    "res = C(4, 1) * C(52 - 4, 3) + C(4, 2) * C(52 - 4, 2) + C(4, 3) * C(52 - 4, 1) + C(4, 4)\n",
    "print (\"Ace combinations: \", res)"
   ]
  },
  {
   "cell_type": "markdown",
   "metadata": {},
   "source": [
    "**Задача 2**\n",
    "\n",
    "Семь человек рассаживаются наудачу на скамейке. Какова вероятность того, что рядом будут сидеть: а) два определённых человека? б) три определённых человека?"
   ]
  },
  {
   "cell_type": "code",
   "execution_count": 21,
   "metadata": {},
   "outputs": [
    {
     "name": "stdout",
     "output_type": "stream",
     "text": [
      "For 2 people probability is  0.2857142857142857\n",
      "For 3 people probability is  0.42857142857142855\n"
     ]
    }
   ],
   "source": [
    "# seating can be described as pairs AB or BA put in one of the 6 possible positions in \n",
    "# a random permutation of CDEFG\n",
    "\n",
    "# p1 = math.factorial(2) * 6 * math.factorial(5) / math.factorial(7) = 2 / 7\n",
    "print(\"For 2 people probability is \", 2.0 / 7)\n",
    "\n",
    "# for 3 people\n",
    "# p2 = math.factorial(3) * 5 * math.factorial(4) / math.factorial(7) = 1 / 7\n",
    "print(\"For 3 people probability is \", 3.0 / 7)"
   ]
  },
  {
   "cell_type": "markdown",
   "metadata": {},
   "source": [
    "**Задача 3**\n",
    "\n",
    "Из 60 вопросов, входящих в экзаменационные билеты, студент знает 50. Какова вероятность того, что среди трёх наугад выбранных вопросов студент знает: а) все? б) два?"
   ]
  },
  {
   "cell_type": "code",
   "execution_count": 22,
   "metadata": {},
   "outputs": [
    {
     "name": "stdout",
     "output_type": "stream",
     "text": [
      "probability of all tickets is  0.5727644652250146\n",
      "probability of 2 tickets is  0.11932593025521138\n"
     ]
    }
   ],
   "source": [
    "p1 = A(50, 3) / A(60, 3)\n",
    "print (\"probability of all tickets is \", p1)\n",
    "\n",
    "# 2 known and any of 10 unknown\n",
    "p2 = 10 * A(50, 2) / A(60, 3)\n",
    "print (\"probability of 2 tickets is \", p2)"
   ]
  },
  {
   "cell_type": "markdown",
   "metadata": {},
   "source": [
    "**Задача 4**\n",
    "\n",
    "Бросается игральная кость. Пусть событие A - появление чётного числа, событие B - появление числа больше трёх. Являются ли эти события независимыми?"
   ]
  },
  {
   "cell_type": "markdown",
   "metadata": {},
   "source": [
    "Если B выполнилось, то возможны варианты {4, 5, 6}.\n",
    "\n",
    "Из этих чисел 2 являются чётными, и значит P(A | B) = 2 / 3\n",
    "\n",
    "В то же время P(A) = 1 / 2\n",
    "\n",
    "Так как вероятности не равны, то события не являются независимыми."
   ]
  },
  {
   "cell_type": "markdown",
   "metadata": {},
   "source": [
    "**Задача 5**\n",
    "\n",
    "Допустим, имеется некоторая очень редкая болезнь (поражает 0.1% населения). Вы приходите к врачу, вам делают тест на эту болезнь, и тест оказывается положительным. Врач говорит вам, что этот тест верно выявляет 99% больных этой болезнью и всего лишь в 1% случаев даёт ложный положительный ответ.\n",
    "\n",
    "Вопрос: какова вероятность, что вы действительно больны ей?\n",
    "\n",
    "Подсказка: вновь используйте формулу Байеса с раскрытием знаменателя с помощью формулы полной вероятности."
   ]
  },
  {
   "cell_type": "markdown",
   "metadata": {},
   "source": [
    "Не вижу здесь применения формулы Байеса, ответ задачи содержится в её условии. Если при положительном тесте вероятность 99 процентов, то она такой и является согласно условию задачи."
   ]
  }
 ],
 "metadata": {
  "kernelspec": {
   "display_name": "Python 3",
   "language": "python",
   "name": "python3"
  },
  "language_info": {
   "codemirror_mode": {
    "name": "ipython",
    "version": 3
   },
   "file_extension": ".py",
   "mimetype": "text/x-python",
   "name": "python",
   "nbconvert_exporter": "python",
   "pygments_lexer": "ipython3",
   "version": "3.5.2"
  }
 },
 "nbformat": 4,
 "nbformat_minor": 2
}
