{
 "cells": [
  {
   "cell_type": "markdown",
   "metadata": {},
   "source": [
    "**Задача 1**\n",
    "\n",
    "Контрольная работа состоит из пяти вопросов. На каждый вопрос приведено четыре варианта ответа, один из которых правильный. Составьте закон распределения числа правильных ответов при простом угадывании. Найдите M(X), D(X)."
   ]
  },
  {
   "cell_type": "markdown",
   "metadata": {},
   "source": [
    "Вероятность угадывания 1 вопроса:\n",
    "\n",
    "p = 0.25\n",
    "\n",
    "Количество испытаний:\n",
    "\n",
    "n = 5\n",
    "\n",
    "Закон распределения описывается формулой Бернулли.\n",
    "\n",
    "M() = 5 * 0.25 = 1.25\n",
    "\n",
    "D() = 5 * 0.25 * 0.75 = 0.9375"
   ]
  },
  {
   "cell_type": "markdown",
   "metadata": {},
   "source": [
    "**Задача 2**\n",
    "\n",
    "Вероятность попадания в цель при одном выстреле равна 0.01. Какова вероятность того, что число попаданий при 200 выстрелах будет не менее 5 и не более 10?"
   ]
  },
  {
   "cell_type": "code",
   "execution_count": 1,
   "metadata": {},
   "outputs": [
    {
     "name": "stdout",
     "output_type": "stream",
     "text": [
      "Probability is:  0.051739381860374606\n"
     ]
    }
   ],
   "source": [
    "# define some generic functions\n",
    "import math\n",
    "from functools import reduce\n",
    "\n",
    "def A(n, m):\n",
    "    return reduce(lambda a,b : a * b, range(n - m + 1, n + 1), 1)\n",
    "\n",
    "def C(n, m):\n",
    "    return A(n, m) / math.factorial(m)\n",
    "\n",
    "def B(p, n, k):\n",
    "    return C(n, k) * p ** k * (1 - p) ** (n - k)\n",
    "\n",
    "res = sum(B(0.01, 200, k) for k in range(5, 11))\n",
    "print(\"Probability is: \", res)"
   ]
  },
  {
   "cell_type": "markdown",
   "metadata": {},
   "source": [
    "**Задача 3**\n",
    "\n",
    "В условиях предыдущей задачи сколько выстрелов нужно сделать чтобы быть уверенным с вероятностью 0.9, что хотя бы 10 раз будет совершено попадание?\n",
    "\n",
    "Подсказка. Как посчитать P(X >= k) для величины X, имеющей распределение Пуассона? Здесь предстоит немножко покодить."
   ]
  },
  {
   "cell_type": "code",
   "execution_count": 7,
   "metadata": {},
   "outputs": [
    {
     "name": "stdout",
     "output_type": "stream",
     "text": [
      "Number of tries is  1421  with probability  0.9001760722984116\n"
     ]
    }
   ],
   "source": [
    "import numpy as np\n",
    "# applying Poisson distributions\n",
    "m = 10\n",
    "p = 0.01\n",
    "\n",
    "# initial value\n",
    "n = 10\n",
    "\n",
    "def Pgreater(n):\n",
    "    '''getting as 1 - sum of all probabilities for lesser values'''\n",
    "    res = 1\n",
    "    lambda_ = n * p\n",
    "    for i in range(0, m):\n",
    "        res -= (lambda_ ** i / np.math.factorial(i)) * np.exp(-lambda_)\n",
    "    return res\n",
    "\n",
    "while True:\n",
    "    if Pgreater(n) > 0.9:\n",
    "        break\n",
    "    n += 1\n",
    "    \n",
    "print(\"Number of tries is \", n, \" with probability \", Pgreater(n))"
   ]
  },
  {
   "cell_type": "code",
   "execution_count": null,
   "metadata": {},
   "outputs": [],
   "source": []
  }
 ],
 "metadata": {
  "kernelspec": {
   "display_name": "Python 3",
   "language": "python",
   "name": "python3"
  },
  "language_info": {
   "codemirror_mode": {
    "name": "ipython",
    "version": 3
   },
   "file_extension": ".py",
   "mimetype": "text/x-python",
   "name": "python",
   "nbconvert_exporter": "python",
   "pygments_lexer": "ipython3",
   "version": "3.5.2"
  }
 },
 "nbformat": 4,
 "nbformat_minor": 2
}
