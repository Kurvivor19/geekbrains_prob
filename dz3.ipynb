{
 "cells": [
  {
   "cell_type": "code",
   "execution_count": 17,
   "metadata": {},
   "outputs": [],
   "source": [
    "import matplotlib\n",
    "%matplotlib inline\n"
   ]
  },
  {
   "cell_type": "markdown",
   "metadata": {},
   "source": [
    "**Задача 1**\n",
    "\n",
    "Даны значения зарплат из выборки выпускников:\n",
    "\n",
    "100, 80, 75, 77, 89, 33, 45, 25, 65, 17, 30, 230, 24, 57, 55, 70, 75, 65, 84, 90, 150\n",
    "\n",
    "Своими руками (т.е. без использования статистических функций вроде mean, std, var) посчитать среднее арифметическое, смещённую и несмещённую оценки дисперсии, среднее квадратичное отклонение для данной выборки.\n",
    "\n",
    "Можно затем посчитать те же значения с использованием статистических функций, чтобы проверить себя."
   ]
  },
  {
   "cell_type": "code",
   "execution_count": 6,
   "metadata": {},
   "outputs": [
    {
     "name": "stdout",
     "output_type": "stream",
     "text": [
      "mean is  73.14285714285714\n",
      "Biased dispersion is  2135.074829931973  stanard deviation  46.20686994302874\n",
      "Unbiased dispersion is  2241.8285714285716  stanard deviation  47.34795213553139\n",
      "Checking\n",
      "mean is  73.14285714285714\n",
      "deviation biased is  46.206869943028735  unbiased  47.347952135531386\n"
     ]
    }
   ],
   "source": [
    "arr = [100, 80, 75, 77, 89, 33, 45, 25, 65, 17, 30, 230, 24, 57, 55, 70, 75, 65, 84, 90, 150]\n",
    "\n",
    "mean_val = sum(arr) / len(arr)\n",
    "\n",
    "print (\"mean is \", mean_val)\n",
    "\n",
    "from math import sqrt\n",
    "Dbias = sum([(a - mean_val) ** 2 for a in arr]) / len(arr)\n",
    "Stdbias = sqrt(Dbias)\n",
    "\n",
    "print (\"Biased dispersion is \", Dbias, \" stanard deviation \", Stdbias)\n",
    "\n",
    "Dunbias = sum([(a - mean_val) ** 2 for a in arr]) / (len(arr) - 1)\n",
    "Stdunbias = sqrt(Dunbias)\n",
    "\n",
    "print (\"Unbiased dispersion is \", Dunbias, \" stanard deviation \", Stdunbias)\n",
    "\n",
    "import numpy as np\n",
    "\n",
    "x = np.array(arr)\n",
    "print (\"Checking\")\n",
    "print (\"mean is \", np.mean(x))\n",
    "print(\"deviation biased is \", np.std(x), \" unbiased \", np.std(x, ddof=1))\n",
    "\n"
   ]
  },
  {
   "cell_type": "markdown",
   "metadata": {},
   "source": [
    "**Задача 2**\n",
    "\n",
    "Для выборки из задачи 1 найти (также без использования статистических функций) медиану, первый и третий квартили, интерквартильное расстояние. Найти выборсы в выборке, используя для этого \"усы\" из boxplot.\n",
    "\n",
    "В этой задаче неоднозначности в вычислении квантилей можно разрешать любым способом."
   ]
  },
  {
   "cell_type": "code",
   "execution_count": 18,
   "metadata": {},
   "outputs": [
    {
     "name": "stdout",
     "output_type": "stream",
     "text": [
      "median  70  quart1  45 quart3 84\n",
      "interquartil distance is  39\n"
     ]
    },
    {
     "data": {
      "text/plain": [
       "{'boxes': [<matplotlib.lines.Line2D at 0x7fa1c7e5c710>],\n",
       " 'caps': [<matplotlib.lines.Line2D at 0x7fa1c7e5cef0>,\n",
       "  <matplotlib.lines.Line2D at 0x7fa1c7df1278>],\n",
       " 'fliers': [<matplotlib.lines.Line2D at 0x7fa1c7df1908>],\n",
       " 'means': [],\n",
       " 'medians': [<matplotlib.lines.Line2D at 0x7fa1c7df15c0>],\n",
       " 'whiskers': [<matplotlib.lines.Line2D at 0x7fa1c7e5c860>,\n",
       "  <matplotlib.lines.Line2D at 0x7fa1c7e5cba8>]}"
      ]
     },
     "execution_count": 18,
     "metadata": {},
     "output_type": "execute_result"
    },
    {
     "data": {
      "image/png": "[encoded data removed]",
      "text/plain": [
       "<Figure size 432x288 with 1 Axes>"
      ]
     },
     "metadata": {
      "needs_background": "light"
     },
     "output_type": "display_data"
    }
   ],
   "source": [
    "sarr = sorted(arr)\n",
    "median = sarr[int(len(arr) / 2)]\n",
    "qart1 = sarr[int(len(arr) / 4)]\n",
    "qart3 = sarr[int(len(arr) / 2) + int(len(arr) / 4)]\n",
    "print (\"median \", median, \" quart1 \", qart1, \"quart3\", qart3)\n",
    "print (\"interquartil distance is \", qart3 - qart1)\n",
    "\n",
    "from matplotlib import pyplot as plt\n",
    "plt.boxplot(arr)"
   ]
  },
  {
   "cell_type": "markdown",
   "metadata": {},
   "source": [
    "На графике видно что выбросы - 150 и 230"
   ]
  },
  {
   "cell_type": "markdown",
   "metadata": {},
   "source": [
    "**Задача 3**\n",
    "\n",
    "В университет на факультеты A и B поступило равное количество студентов, а на факультет C студентов поступило столько же, сколько на A и B вместе. Вероятность того, что студент факультета A сдаст первую сессию, равна 0.8. Для студента факультета B эта вероятность равна 0.7, а для студента факультета C - 0.9. Студент сдал первую сессию. Какова вероятность, что он учится: a) на факультете A? б) на факультете B? в) на факультете C?"
   ]
  },
  {
   "cell_type": "markdown",
   "metadata": {},
   "source": [
    "Обозначим P(a), P(b), P(c) вероятности что студент на каждом из факультетов, а через P(z) то что он сдал зачёт. Если считать что вероятности нахождения на факультетах априори пропорциональны количеству студентов на них, то вероятность сдать зачёт:\n",
    "\n",
    "P(z) = P(z|a)P(a) + P(z|b)P(b) + P(z|c)P(c) = 0.8 * 0.25 + 0.7 * 0.25 + 0.9 * 0.5 = 0.2 + 0.175 + 0.45 = 0.825\n",
    "тогда по формуле Байеса\n",
    "P(a|z) = P(z|a) * P(a) / P(z) = 0.8 * 0.25 / 0.825 = 0.24(24)\n",
    "P(b|z) = P(z|b) * P(b) / P(z) = 0.7 * 0.25 / 0.825 = 0.21(21)\n",
    "P(c|z) = P(z|c) * P(c) / P(z) = 0.9 * 0.5 / 0.825 = 0.54(54)"
   ]
  }
 ],
 "metadata": {
  "kernelspec": {
   "display_name": "Python 3",
   "language": "python",
   "name": "python3"
  },
  "language_info": {
   "codemirror_mode": {
    "name": "ipython",
    "version": 3
   },
   "file_extension": ".py",
   "mimetype": "text/x-python",
   "name": "python",
   "nbconvert_exporter": "python",
   "pygments_lexer": "ipython3",
   "version": "3.5.2"
  }
 },
 "nbformat": 4,
 "nbformat_minor": 2
}
